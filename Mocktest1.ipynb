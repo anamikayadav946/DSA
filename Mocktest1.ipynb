{
 "cells": [
  {
   "cell_type": "raw",
   "id": "5ee9e0af-5ecd-4590-a341-634b43b96a98",
   "metadata": {},
   "source": [
    "1.MOVE ZEROS \n",
    "Given an integer array nums, move all 0's to the end of it while maintaining the relative order of the non-zero elements.\n",
    "\n",
    "Note that you must do this in-place without making a copy of the array.\n",
    "\n",
    "Example 1:\n",
    "Input: nums = [0,1,0,3,12]\n",
    "Output: [1,3,12,0,0]\n",
    "\n",
    "Example 2:\n",
    "Input: nums = [0]\n",
    "Output: [0]\n",
    "\n",
    "Constraints:\n",
    "a. 1 <= nums.length <= 10^4\n",
    "b. -2^31 <= nums[i] <= 2^31 - 1"
   ]
  },
  {
   "cell_type": "code",
   "execution_count": 9,
   "id": "6b13f84d-7f70-4088-b80a-36f7042833fd",
   "metadata": {},
   "outputs": [
    {
     "name": "stdout",
     "output_type": "stream",
     "text": [
      "[1, 3, 12, 0, 0]\n"
     ]
    }
   ],
   "source": [
    "def pushzero(arr , n):\n",
    "    count = 0\n",
    "    for i in range (n):\n",
    "        if arr == 0:\n",
    "            return 0\n",
    "        else:\n",
    "            if arr[i] != 0:\n",
    "                arr[count] = arr[i]\n",
    "                count += 1\n",
    "    while count <n:\n",
    "            arr[count] = 0\n",
    "            count += 1\n",
    "            \n",
    "nums = [0,1,0,3,12]  \n",
    "no = len(nums)\n",
    "pushzero(nums, no)\n",
    "print(nums)"
   ]
  },
  {
   "cell_type": "raw",
   "id": "c745b9ee-cd81-46dc-90d5-b8bd73f58a5a",
   "metadata": {},
   "source": [
    "2. First Unique Character in a String\n",
    "\n",
    "Given a string s, find the first non-repeating character in it and return its index. If it does not exist, return -1.\n",
    "\n",
    "Example 1:\n",
    "Input: s = \"leetcode\"\n",
    "Output: 0\n",
    "\n",
    "Example 2:\n",
    "Input: s = \"loveleetcode\"\n",
    "Output: 2\n",
    "\n",
    "Example 3:\n",
    "Input: s = \"aabb\"\n",
    "Output: -1\n",
    "\n",
    "Constraints:\n",
    "a. 1 <= s.length <= 10^5\n",
    "b. s consists of only lowercase English letters."
   ]
  },
  {
   "cell_type": "code",
   "execution_count": 31,
   "id": "03fce2e8-0141-48f6-aac8-da7e5aac1a1c",
   "metadata": {},
   "outputs": [
    {
     "name": "stdout",
     "output_type": "stream",
     "text": [
      "v\n"
     ]
    }
   ],
   "source": [
    "string = \"aabbloveleetcode\"\n",
    "fnc = \"\"\n",
    " \n",
    "if len(string) == 0 :\n",
    "    print(\"EMTPY STRING\")\n",
    "\n",
    "for i in string:\n",
    "    if string.count(i) == 1:\n",
    "        fnc += i\n",
    "        break\n",
    "    else:\n",
    "        index += 1\n",
    "if index == len(string)-1 :\n",
    "    print(\"-1\")\n",
    "else:\n",
    "    print(fnc)"
   ]
  },
  {
   "cell_type": "code",
   "execution_count": null,
   "id": "e0c2411c-8692-4bc2-9a89-d0b7e99ee19e",
   "metadata": {},
   "outputs": [],
   "source": []
  }
 ],
 "metadata": {
  "kernelspec": {
   "display_name": "Python 3 (ipykernel)",
   "language": "python",
   "name": "python3"
  },
  "language_info": {
   "codemirror_mode": {
    "name": "ipython",
    "version": 3
   },
   "file_extension": ".py",
   "mimetype": "text/x-python",
   "name": "python",
   "nbconvert_exporter": "python",
   "pygments_lexer": "ipython3",
   "version": "3.10.8"
  }
 },
 "nbformat": 4,
 "nbformat_minor": 5
}
